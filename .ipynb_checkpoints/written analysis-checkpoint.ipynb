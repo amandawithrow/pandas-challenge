{
 "cells": [
  {
   "cell_type": "markdown",
   "metadata": {},
   "source": [
    "<h2>Trends seen from School District Data</h2>\n",
    "\n",
    "[1] All five top performing schools are charters, with 4 falling in the small (<1000) to medium range (1000-2000), and only one large school (2000-5000), though at the bottom end of that range (2,283 students). By contrast, all 5 bottom performing schools are large district schools.\n",
    "\n",
    "[2] If we look at spending ranges and passing rates, it would seem that lower spending schools do better.  However, Charter schools tend ot have a lower per student budget, so when we look at lower spending schools as doing better in passing, we cannot readily separate the confounding factors without additional analysis.\n",
    "\n",
    "[3] Overall, small and medium schools do better than large, and Charter schools do better than the district schools.  This leads to additional questions: Is this simply a matter of class size differences between Charter schools and District schools? Or are there other details - number of teachers, quality of teacher, volunteers, unique characteristics of the charter schools, demographics of the student body and their families - that might explain the differences? Additional data would need to be obtained in order to analyze in a way that would lead to improved conclusions, including moving towards hypothesis testing analyses."
   ]
  },
  {
   "cell_type": "markdown",
   "metadata": {},
   "source": [
    "<h2>District Summary Table</h2>\n"
   ]
  },
  {
   "cell_type": "markdown",
   "metadata": {
    "raw_mimetype": "text/markdown"
   },
   "source": [
    "<div>\n",
    "<style scoped>\n",
    "    .dataframe tbody tr th:only-of-type {\n",
    "        vertical-align: middle;\n",
    "    }\n",
    "\n",
    "    .dataframe tbody tr th {\n",
    "        vertical-align: top;\n",
    "    }\n",
    "\n",
    "    .dataframe thead th {\n",
    "        text-align: right;\n",
    "    }\n",
    "</style>\n",
    "<table border=\"1\" class=\"dataframe\">\n",
    "  <thead>\n",
    "    <tr style=\"text-align: right;\">\n",
    "      <th></th>\n",
    "      <th>Total schools</th>\n",
    "      <th>Total students</th>\n",
    "      <th>Total budget</th>\n",
    "      <th>Average Math Score</th>\n",
    "      <th>Average Reading Score</th>\n",
    "      <th>% Passed Math</th>\n",
    "      <th>% Passed Reading</th>\n",
    "      <th>Overall Passing Rate</th>\n",
    "    </tr>\n",
    "  </thead>\n",
    "  <tbody>\n",
    "    <tr>\n",
    "      <th>0</th>\n",
    "      <td>15</td>\n",
    "      <td>39,170</td>\n",
    "      <td>$24,649,428</td>\n",
    "      <td>78.98537</td>\n",
    "      <td>81.87784</td>\n",
    "      <td>74.98085</td>\n",
    "      <td>85.80546</td>\n",
    "      <td>80.39316</td>\n",
    "    </tr>\n",
    "  </tbody>\n",
    "</table>\n",
    "</div>\n"
   ]
  },
  {
   "cell_type": "markdown",
   "metadata": {},
   "source": [
    "<h2>Schools Summary Table </h2>"
   ]
  },
  {
   "cell_type": "markdown",
   "metadata": {},
   "source": [
    "<img src=\"schools_summary_table.png\">"
   ]
  },
  {
   "cell_type": "markdown",
   "metadata": {},
   "source": [
    "<h2>Top Performing Schools</h2>"
   ]
  },
  {
   "cell_type": "markdown",
   "metadata": {},
   "source": [
    "<img src=\"top_5_schools.png\">"
   ]
  },
  {
   "cell_type": "markdown",
   "metadata": {},
   "source": [
    "<h2>Bottom Performing Schools</h2>"
   ]
  },
  {
   "cell_type": "markdown",
   "metadata": {},
   "source": [
    "<img src=\"bottom_5_schools.png\">"
   ]
  },
  {
   "cell_type": "markdown",
   "metadata": {},
   "source": [
    "<h2>Math Scores by Grade and School</h2>"
   ]
  },
  {
   "cell_type": "markdown",
   "metadata": {},
   "source": [
    "<img src=\"math_scores.png\">"
   ]
  },
  {
   "cell_type": "markdown",
   "metadata": {},
   "source": [
    "<h2>Reading Scores by Grade and School</h2>"
   ]
  },
  {
   "cell_type": "markdown",
   "metadata": {},
   "source": [
    "<img src=\"reading_scores.png\">"
   ]
  },
  {
   "cell_type": "markdown",
   "metadata": {},
   "source": [
    "<h2> Spending and Scores</h2>"
   ]
  },
  {
   "cell_type": "markdown",
   "metadata": {},
   "source": [
    "<img src=\"spending.png\">"
   ]
  },
  {
   "cell_type": "markdown",
   "metadata": {},
   "source": [
    "<h2>School Size and Scores</h2>"
   ]
  },
  {
   "cell_type": "markdown",
   "metadata": {},
   "source": [
    "<img src=\"size.png\">"
   ]
  },
  {
   "cell_type": "markdown",
   "metadata": {},
   "source": [
    "<h2>School Type and Scores</h2>"
   ]
  },
  {
   "cell_type": "markdown",
   "metadata": {},
   "source": [
    "<img src=\"type.png\">"
   ]
  },
  {
   "cell_type": "code",
   "execution_count": null,
   "metadata": {},
   "outputs": [],
   "source": []
  }
 ],
 "metadata": {
  "celltoolbar": "Raw Cell Format",
  "kernelspec": {
   "display_name": "Python 3",
   "language": "python",
   "name": "python3"
  },
  "language_info": {
   "codemirror_mode": {
    "name": "ipython",
    "version": 3
   },
   "file_extension": ".py",
   "mimetype": "text/x-python",
   "name": "python",
   "nbconvert_exporter": "python",
   "pygments_lexer": "ipython3",
   "version": "3.7.3"
  }
 },
 "nbformat": 4,
 "nbformat_minor": 2
}
